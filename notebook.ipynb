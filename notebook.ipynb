{
 "cells": [
  {
   "cell_type": "code",
   "execution_count": 1,
   "metadata": {},
   "outputs": [
    {
     "data": {
      "text/plain": [
       "['.eslintrc.cjs',\n",
       " '.gitignore',\n",
       " 'data.json',\n",
       " 'dummy_server.py',\n",
       " 'index.html',\n",
       " 'node_modules',\n",
       " 'notebook.ipynb',\n",
       " 'package-lock.json',\n",
       " 'package.json',\n",
       " 'postcss.config.js',\n",
       " 'public',\n",
       " 'README.md',\n",
       " 'src',\n",
       " 'tailwind.config.js',\n",
       " 'Test.pdf',\n",
       " 'user_database.db',\n",
       " 'vite.config.js']"
      ]
     },
     "execution_count": 1,
     "metadata": {},
     "output_type": "execute_result"
    }
   ],
   "source": [
    "import json\n",
    "import random\n",
    "import sqlite3\n",
    "\n",
    "conn = sqlite3.connect('./user_database.db')\n",
    "cursor = conn.cursor()\n",
    "\n",
    "userIDlist = [1, 2, 7, 10, 11]\n",
    "import os\n",
    "os.listdir('./')"
   ]
  },
  {
   "cell_type": "code",
   "execution_count": 7,
   "metadata": {},
   "outputs": [],
   "source": [
    "cursor.execute(f\"\"\"SELECT tableName FROM sqlite_master WHERE type=’table’ AND tableName='STUDENT';\"\"\")\n",
    "\n",
    "cursor.fetchall()"
   ]
  },
  {
   "cell_type": "code",
   "execution_count": 15,
   "metadata": {},
   "outputs": [
    {
     "data": {
      "text/plain": [
       "\"title='myTitle', description='My description', file_list='[]', default_behavior='false'\""
      ]
     },
     "execution_count": 15,
     "metadata": {},
     "output_type": "execute_result"
    }
   ],
   "source": [
    "kbArticle = {\n",
    "    \"title\": \"myTitle\",\n",
    "    \"description\": \"My description\",\n",
    "    \"file_list\": \"[]\",\n",
    "    \"default_behavior\": \"false\"\n",
    "}\n",
    "\n",
    "conditions = ', '.join([f\"{field}='{kbArticle[field]}'\" for field in kbArticle.keys()])\n",
    "conditions"
   ]
  }
 ],
 "metadata": {
  "kernelspec": {
   "display_name": "Python 3",
   "language": "python",
   "name": "python3"
  },
  "language_info": {
   "codemirror_mode": {
    "name": "ipython",
    "version": 3
   },
   "file_extension": ".py",
   "mimetype": "text/x-python",
   "name": "python",
   "nbconvert_exporter": "python",
   "pygments_lexer": "ipython3",
   "version": "3.11.6"
  }
 },
 "nbformat": 4,
 "nbformat_minor": 2
}
